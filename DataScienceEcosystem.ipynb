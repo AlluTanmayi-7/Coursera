{
 "cells": [
  {
   "cell_type": "markdown",
   "id": "d3d3bc84-dbdd-4745-9933-427bf3aae1d5",
   "metadata": {},
   "source": [
    "# Data Science Tools and Ecosystem "
   ]
  },
  {
   "cell_type": "markdown",
   "id": "fa840e06-c7a3-4e7c-90c4-28ed6d81a017",
   "metadata": {},
   "source": [
    "In this notebook, Data Science Tools and Ecosystem are summarized."
   ]
  },
  {
   "cell_type": "markdown",
   "id": "914cdcfa-d39e-4ed2-929f-ca9032802318",
   "metadata": {},
   "source": [
    "**Objectives:**\n",
    "- List popular languages for Data Science\n",
    "- Explore commonly used libraries in Data Science\n",
    "- Review tools and environments utilized in Data Science\n",
    "- Practice arithmetic operations in Python\n",
    "- Understand key takeaways from the Data Science ecosystem"
   ]
  },
  {
   "cell_type": "markdown",
   "id": "736a624f-43cc-4498-9120-38361949edc6",
   "metadata": {},
   "source": [
    "Some of the popular languages that Data Scientists use are:\n",
    "\n",
    "1. Python\n",
    "2. SQL\n",
    "3. R\n",
    "4. Java"
   ]
  },
  {
   "cell_type": "markdown",
   "id": "8c6d30cd-6bb9-42fa-a350-5b44db1fd8b1",
   "metadata": {},
   "source": [
    "Some of the commonly used libraries used by Data Scientists include:\n",
    "\n",
    "1. Numpy\n",
    "2. Pandas\n",
    "3. Matplotlib\n",
    "4. SciKit-Learn\n",
    "5. PyTorch"
   ]
  },
  {
   "cell_type": "markdown",
   "id": "e7174251-c58a-4863-b4ce-d06aee5142a6",
   "metadata": {},
   "source": [
    "|Data Science Tools|\n",
    "|------------------|\n",
    "|   Jupyter        |\n",
    "|   Rstudio        |\n",
    "|   Tableau        |\n",
    "|   MATLAB         |\n"
   ]
  },
  {
   "cell_type": "markdown",
   "id": "906e2428-9907-48f5-875e-2816735c9150",
   "metadata": {},
   "source": [
    "### Below are a few examples of evaluating arithmetic expressions in Python"
   ]
  },
  {
   "cell_type": "code",
   "execution_count": 2,
   "id": "b1c96156-96fd-4791-aa11-c87b354e4a47",
   "metadata": {},
   "outputs": [
    {
     "data": {
      "text/plain": [
       "17"
      ]
     },
     "execution_count": 2,
     "metadata": {},
     "output_type": "execute_result"
    }
   ],
   "source": [
    "#This a simple arithmetic expression to multiply then add integers\n",
    "(3*4)+5"
   ]
  },
  {
   "cell_type": "code",
   "execution_count": 4,
   "id": "d3ee4e1d-cc38-48bc-8470-88da73ef51b6",
   "metadata": {},
   "outputs": [
    {
     "data": {
      "text/plain": [
       "3.3333333333333335"
      ]
     },
     "execution_count": 4,
     "metadata": {},
     "output_type": "execute_result"
    }
   ],
   "source": [
    "#This will convert 200 minutes to hours by dividing by 60\n",
    "minutes=200\n",
    "hours=minutes/60\n",
    "hours"
   ]
  },
  {
   "cell_type": "markdown",
   "id": "aec8e01c-d260-4d15-b415-5310e12ea171",
   "metadata": {},
   "source": [
    "## Author\n",
    "Tanmayi Allu"
   ]
  }
 ],
 "metadata": {
  "kernelspec": {
   "display_name": "Python 3 (ipykernel)",
   "language": "python",
   "name": "python3"
  },
  "language_info": {
   "codemirror_mode": {
    "name": "ipython",
    "version": 3
   },
   "file_extension": ".py",
   "mimetype": "text/x-python",
   "name": "python",
   "nbconvert_exporter": "python",
   "pygments_lexer": "ipython3",
   "version": "3.13.1"
  }
 },
 "nbformat": 4,
 "nbformat_minor": 5
}
